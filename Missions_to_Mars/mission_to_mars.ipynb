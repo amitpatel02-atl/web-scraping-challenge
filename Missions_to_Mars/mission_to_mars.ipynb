{
 "cells": [
  {
   "cell_type": "code",
   "execution_count": 5,
   "metadata": {},
   "outputs": [],
   "source": [
    "from splinter import Browser\n",
    "from bs4 import BeautifulSoup"
   ]
  },
  {
   "cell_type": "code",
   "execution_count": 15,
   "metadata": {},
   "outputs": [],
   "source": [
    "executable_path = {'executable_path': 'chromedriver.exe'}\n",
    "browser = Browser('chrome', **executable_path, headless=False)"
   ]
  },
  {
   "cell_type": "code",
   "execution_count": 7,
   "metadata": {},
   "outputs": [],
   "source": [
    "url = 'https://mars.nasa.gov/news/'\n",
    "browser.visit(url)"
   ]
  },
  {
   "cell_type": "code",
   "execution_count": 8,
   "metadata": {},
   "outputs": [],
   "source": [
    "mars={}"
   ]
  },
  {
   "cell_type": "code",
   "execution_count": 9,
   "metadata": {},
   "outputs": [
    {
     "name": "stdout",
     "output_type": "stream",
     "text": [
      "The Detective Aboard NASA's Perseverance Rover\n",
      "An instrument called SHERLOC will, with the help of its partner WATSON, hunt for signs of ancient life by detecting organic molecules and minerals.\n"
     ]
    }
   ],
   "source": [
    "html = browser.html\n",
    "soup = BeautifulSoup(html, 'html.parser')\n",
    "\n",
    "quotes = soup.find_all('div', class_='content_title')\n",
    "quotes1 = soup.find('div', class_='article_teaser_body')\n",
    "print(quotes[1].text)\n",
    "print(quotes1.text)                        \n",
    "                        "
   ]
  },
  {
   "cell_type": "code",
   "execution_count": 10,
   "metadata": {},
   "outputs": [],
   "source": [
    "new_title = quotes[1].text\n",
    "news_p = quotes1.text"
   ]
  },
  {
   "cell_type": "code",
   "execution_count": 11,
   "metadata": {},
   "outputs": [],
   "source": [
    "mars[\"new_title\"]=new_title\n",
    "mars[\"news_p\"]=news_p\n"
   ]
  },
  {
   "cell_type": "code",
   "execution_count": 13,
   "metadata": {},
   "outputs": [],
   "source": [
    "# Close the brower\n",
    "browser.quit()"
   ]
  },
  {
   "cell_type": "code",
   "execution_count": 16,
   "metadata": {},
   "outputs": [],
   "source": [
    "url = 'https://www.jpl.nasa.gov/spaceimages/?search=&category=Mars'\n",
    "browser.visit(url)"
   ]
  },
  {
   "cell_type": "code",
   "execution_count": 17,
   "metadata": {},
   "outputs": [],
   "source": [
    "browser.find_by_id(\"full_image\").click()"
   ]
  },
  {
   "cell_type": "code",
   "execution_count": 18,
   "metadata": {},
   "outputs": [
    {
     "name": "stderr",
     "output_type": "stream",
     "text": [
      "C:\\Users\\amitp\\Anaconda3\\envs\\PythonData\\lib\\site-packages\\splinter\\driver\\webdriver\\__init__.py:525: FutureWarning: browser.find_link_by_partial_text is deprecated. Use browser.links.find_by_partial_text instead.\n",
      "  warnings.warn(\n"
     ]
    }
   ],
   "source": [
    "browser.find_link_by_partial_text(\"more info\").click()"
   ]
  },
  {
   "cell_type": "code",
   "execution_count": 20,
   "metadata": {},
   "outputs": [
    {
     "name": "stdout",
     "output_type": "stream",
     "text": [
      "<figure class=\"lede\">\n",
      "<a href=\"/spaceimages/images/largesize/PIA16092_hires.jpg\"><img alt=\"This 360-degree panorama shows evidence of a successful first test drive for NASA's Curiosity rover; the rover made its first move, going forward about 15 feet (4.5 meters), rotating 120 degrees and then reversing about 8 feet (2.5 meters).\" class=\"main_image\" src=\"/spaceimages/images/largesize/PIA16092_hires.jpg\" title=\"This 360-degree panorama shows evidence of a successful first test drive for NASA's Curiosity rover; the rover made its first move, going forward about 15 feet (4.5 meters), rotating 120 degrees and then reversing about 8 feet (2.5 meters).\"/></a>\n",
      "</figure>\n"
     ]
    }
   ],
   "source": [
    "html = browser.html\n",
    "soup = BeautifulSoup(html, 'html.parser')\n",
    "\n",
    "quotes = soup.find('figure', class_='lede')\n",
    "\n",
    "print(quotes)\n",
    "\n"
   ]
  },
  {
   "cell_type": "code",
   "execution_count": 21,
   "metadata": {},
   "outputs": [
    {
     "name": "stdout",
     "output_type": "stream",
     "text": [
      "<a href=\"/spaceimages/images/largesize/PIA16092_hires.jpg\"><img alt=\"This 360-degree panorama shows evidence of a successful first test drive for NASA's Curiosity rover; the rover made its first move, going forward about 15 feet (4.5 meters), rotating 120 degrees and then reversing about 8 feet (2.5 meters).\" class=\"main_image\" src=\"/spaceimages/images/largesize/PIA16092_hires.jpg\" title=\"This 360-degree panorama shows evidence of a successful first test drive for NASA's Curiosity rover; the rover made its first move, going forward about 15 feet (4.5 meters), rotating 120 degrees and then reversing about 8 feet (2.5 meters).\"/></a>\n"
     ]
    }
   ],
   "source": [
    "print(quotes.a)"
   ]
  },
  {
   "cell_type": "code",
   "execution_count": 22,
   "metadata": {},
   "outputs": [
    {
     "name": "stdout",
     "output_type": "stream",
     "text": [
      "<img alt=\"This 360-degree panorama shows evidence of a successful first test drive for NASA's Curiosity rover; the rover made its first move, going forward about 15 feet (4.5 meters), rotating 120 degrees and then reversing about 8 feet (2.5 meters).\" class=\"main_image\" src=\"/spaceimages/images/largesize/PIA16092_hires.jpg\" title=\"This 360-degree panorama shows evidence of a successful first test drive for NASA's Curiosity rover; the rover made its first move, going forward about 15 feet (4.5 meters), rotating 120 degrees and then reversing about 8 feet (2.5 meters).\"/>\n"
     ]
    }
   ],
   "source": [
    "print(quotes.a.img)"
   ]
  },
  {
   "cell_type": "code",
   "execution_count": 23,
   "metadata": {},
   "outputs": [
    {
     "name": "stdout",
     "output_type": "stream",
     "text": [
      "/spaceimages/images/largesize/PIA16092_hires.jpg\n"
     ]
    }
   ],
   "source": [
    "print(quotes.a.img[\"src\"])"
   ]
  },
  {
   "cell_type": "code",
   "execution_count": 24,
   "metadata": {},
   "outputs": [],
   "source": [
    "featured_image=\"https://www.jpl.nasa.gov\"+quotes.a.img[\"src\"]"
   ]
  },
  {
   "cell_type": "code",
   "execution_count": 25,
   "metadata": {},
   "outputs": [],
   "source": [
    "mars[\"featured_image\"]= featured_image"
   ]
  },
  {
   "cell_type": "code",
   "execution_count": 27,
   "metadata": {},
   "outputs": [],
   "source": [
    "# Close the brower\n",
    "browser.quit()"
   ]
  },
  {
   "cell_type": "code",
   "execution_count": null,
   "metadata": {},
   "outputs": [],
   "source": [
    "url = 'https://www.jpl.nasa.gov/spaceimages/?search=&category=Mars'\n",
    "browser.visit(url)"
   ]
  }
 ],
 "metadata": {
  "kernelspec": {
   "display_name": "PythonData",
   "language": "python",
   "name": "pythondata"
  },
  "language_info": {
   "codemirror_mode": {
    "name": "ipython",
    "version": 3
   },
   "file_extension": ".py",
   "mimetype": "text/x-python",
   "name": "python",
   "nbconvert_exporter": "python",
   "pygments_lexer": "ipython3",
   "version": "3.8.1"
  }
 },
 "nbformat": 4,
 "nbformat_minor": 4
}
